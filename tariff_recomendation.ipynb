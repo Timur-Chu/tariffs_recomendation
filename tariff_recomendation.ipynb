{
 "cells": [
  {
   "cell_type": "markdown",
   "metadata": {},
   "source": [
    "# Рекомендация тарифов"
   ]
  },
  {
   "cell_type": "markdown",
   "metadata": {},
   "source": [
    "По данным оператора мобильной связи многие клиенты пользуются архивными тарифами. Компания планирует построить систему, способную проанализировать поведение клиентов и предложить пользователям новый тариф: «Смарт» или «Ультра». Иммется информация о поведении клиентов, которые уже перешли на эти тарифы (из проекта \"Определение перспективного тарифа для телеком компании\").\n",
    "\n",
    "Необходимо построить модель для задачи классификации, которая выберет подходящий тариф с максимально большим значением accuracy. Долю правильных ответов нужно довести до 0.75 и проверить accuracy на тестовой выборке."
   ]
  },
  {
   "cell_type": "markdown",
   "metadata": {},
   "source": [
    "## Открытие и изучение файла"
   ]
  },
  {
   "cell_type": "code",
   "execution_count": 1,
   "metadata": {},
   "outputs": [],
   "source": [
    "import pandas as pd\n",
    "from sklearn.tree import DecisionTreeClassifier\n",
    "from sklearn.metrics import accuracy_score\n",
    "from sklearn.ensemble import RandomForestClassifier\n",
    "from sklearn.model_selection import train_test_split\n",
    "from sklearn.linear_model import LogisticRegression \n",
    "from sklearn.dummy import DummyClassifier"
   ]
  },
  {
   "cell_type": "code",
   "execution_count": 2,
   "metadata": {},
   "outputs": [
    {
     "name": "stdout",
     "output_type": "stream",
     "text": [
      "<class 'pandas.core.frame.DataFrame'>\n",
      "RangeIndex: 3214 entries, 0 to 3213\n",
      "Data columns (total 5 columns):\n",
      " #   Column    Non-Null Count  Dtype  \n",
      "---  ------    --------------  -----  \n",
      " 0   calls     3214 non-null   float64\n",
      " 1   minutes   3214 non-null   float64\n",
      " 2   messages  3214 non-null   float64\n",
      " 3   mb_used   3214 non-null   float64\n",
      " 4   is_ultra  3214 non-null   int64  \n",
      "dtypes: float64(4), int64(1)\n",
      "memory usage: 125.7 KB\n"
     ]
    },
    {
     "data": {
      "text/html": [
       "<div>\n",
       "<style scoped>\n",
       "    .dataframe tbody tr th:only-of-type {\n",
       "        vertical-align: middle;\n",
       "    }\n",
       "\n",
       "    .dataframe tbody tr th {\n",
       "        vertical-align: top;\n",
       "    }\n",
       "\n",
       "    .dataframe thead th {\n",
       "        text-align: right;\n",
       "    }\n",
       "</style>\n",
       "<table border=\"1\" class=\"dataframe\">\n",
       "  <thead>\n",
       "    <tr style=\"text-align: right;\">\n",
       "      <th></th>\n",
       "      <th>calls</th>\n",
       "      <th>minutes</th>\n",
       "      <th>messages</th>\n",
       "      <th>mb_used</th>\n",
       "      <th>is_ultra</th>\n",
       "    </tr>\n",
       "  </thead>\n",
       "  <tbody>\n",
       "    <tr>\n",
       "      <th>0</th>\n",
       "      <td>40.0</td>\n",
       "      <td>311.90</td>\n",
       "      <td>83.0</td>\n",
       "      <td>19915.42</td>\n",
       "      <td>0</td>\n",
       "    </tr>\n",
       "    <tr>\n",
       "      <th>1</th>\n",
       "      <td>85.0</td>\n",
       "      <td>516.75</td>\n",
       "      <td>56.0</td>\n",
       "      <td>22696.96</td>\n",
       "      <td>0</td>\n",
       "    </tr>\n",
       "    <tr>\n",
       "      <th>2</th>\n",
       "      <td>77.0</td>\n",
       "      <td>467.66</td>\n",
       "      <td>86.0</td>\n",
       "      <td>21060.45</td>\n",
       "      <td>0</td>\n",
       "    </tr>\n",
       "    <tr>\n",
       "      <th>3</th>\n",
       "      <td>106.0</td>\n",
       "      <td>745.53</td>\n",
       "      <td>81.0</td>\n",
       "      <td>8437.39</td>\n",
       "      <td>1</td>\n",
       "    </tr>\n",
       "    <tr>\n",
       "      <th>4</th>\n",
       "      <td>66.0</td>\n",
       "      <td>418.74</td>\n",
       "      <td>1.0</td>\n",
       "      <td>14502.75</td>\n",
       "      <td>0</td>\n",
       "    </tr>\n",
       "  </tbody>\n",
       "</table>\n",
       "</div>"
      ],
      "text/plain": [
       "   calls  minutes  messages   mb_used  is_ultra\n",
       "0   40.0   311.90      83.0  19915.42         0\n",
       "1   85.0   516.75      56.0  22696.96         0\n",
       "2   77.0   467.66      86.0  21060.45         0\n",
       "3  106.0   745.53      81.0   8437.39         1\n",
       "4   66.0   418.74       1.0  14502.75         0"
      ]
     },
     "metadata": {},
     "output_type": "display_data"
    }
   ],
   "source": [
    "df = pd.read_csv('/datasets/users_behavior.csv')\n",
    "df.info()\n",
    "display(df.head())\n",
    "features = df.drop('is_ultra',axis=1) # создаем переменную с признаками\n",
    "target = df['is_ultra']  # создаем переменную с  целевым признаком"
   ]
  },
  {
   "cell_type": "markdown",
   "metadata": {},
   "source": [
    "## Деление данных на выборки\n",
    "\n",
    "Разбиваем данные на обучающую, валидационную и тестовую выборки в соотношении 60-20-20."
   ]
  },
  {
   "cell_type": "code",
   "execution_count": 3,
   "metadata": {},
   "outputs": [],
   "source": [
    "features_t, features_valid, target_t, target_valid = train_test_split(\n",
    "    features, target, test_size=0.2,train_size=0.8, random_state=42)\n",
    "features_train, features_test, target_train, target_test = train_test_split(\n",
    "    features_t, target_t, test_size=0.25,train_size=0.75, random_state=42)"
   ]
  },
  {
   "cell_type": "markdown",
   "metadata": {},
   "source": [
    "## Исследование моделей\n",
    "\n",
    "На данном этапе рассмотрим 3 алгоритма классификации:\n",
    "- Решающее дерево\n",
    "- Случайный лес\n",
    "- Логистическая регрессия\n",
    "\n",
    "Определим наилучший алгоритм.\n",
    "\n",
    "### Применим алгоритм классификации \"Решающее дерево\", последовательно изменяя его гиперпараметры с целью нахождения максимального значения Accuracy.\n",
    "\n",
    "#### В алгоритме DecisionTreeClassifier найдем глубину дерева, при котором будет достигнуто максимальное значение Accuracy"
   ]
  },
  {
   "cell_type": "code",
   "execution_count": 4,
   "metadata": {
    "scrolled": true
   },
   "outputs": [
    {
     "name": "stdout",
     "output_type": "stream",
     "text": [
      "Max depth= 1 :  0.7698289269051322\n",
      "Max depth= 2 :  0.7900466562986003\n",
      "Max depth= 3 :  0.7776049766718507\n",
      "Max depth= 4 :  0.7900466562986003\n",
      "Max depth= 5 :  0.8040435458786936\n",
      "Accuracy наилучшей модели на валидационной выборке: 0.8040435458786936\n"
     ]
    }
   ],
   "source": [
    "best_model = None\n",
    "best_result = 0\n",
    "for depth in range(1,6):\n",
    "    model = DecisionTreeClassifier(random_state=42, max_depth=depth)\n",
    "    model.fit(features_train,target_train)\n",
    "    predictions_valid = model.predict(features_valid)\n",
    "    result = accuracy_score(target_valid,predictions_valid)\n",
    "    print(\"Max depth=\",depth,\": \",result)\n",
    "    if result > best_result:\n",
    "        best_model = model# сохраните наилучшую модель\n",
    "        best_result = result#  сохраните наилучшее значение метрики accuracy на валидационных данных\n",
    "print(\"Accuracy наилучшей модели на валидационной выборке:\", best_result)"
   ]
  },
  {
   "cell_type": "markdown",
   "metadata": {},
   "source": [
    "Наибольшее значение Accuracy достигается при глубине дерева Max depth= 5 \n",
    "#### В алгоритме DecisionTreeClassifier найдем параметр min_samples_leaf, при котором будет достигнуто максимальное значение Accuracy"
   ]
  },
  {
   "cell_type": "code",
   "execution_count": 5,
   "metadata": {
    "scrolled": true
   },
   "outputs": [
    {
     "name": "stdout",
     "output_type": "stream",
     "text": [
      "min_samples_leaf= 1 :  0.8040435458786936\n",
      "min_samples_leaf= 2 :  0.80248833592535\n",
      "min_samples_leaf= 3 :  0.8040435458786936\n",
      "min_samples_leaf= 4 :  0.8009331259720062\n",
      "min_samples_leaf= 5 :  0.80248833592535\n",
      "Accuracy наилучшей модели на валидационной выборке: 0.8040435458786936\n"
     ]
    }
   ],
   "source": [
    "best_model = None\n",
    "best_result = 0\n",
    "for i in range(1,6):\n",
    "    model = DecisionTreeClassifier(random_state=42, max_depth=5, min_samples_leaf=i)\n",
    "    model.fit(features_train,target_train)\n",
    "    predictions_valid = model.predict(features_valid)\n",
    "    result = accuracy_score(target_valid,predictions_valid)\n",
    "    print(\"min_samples_leaf=\",i,\": \",result)\n",
    "    if result > best_result:\n",
    "        best_model = model# сохраните наилучшую модель\n",
    "        best_result = result#  сохраните наилучшее значение метрики accuracy на валидационных данных\n",
    "print(\"Accuracy наилучшей модели на валидационной выборке:\", best_result)"
   ]
  },
  {
   "cell_type": "markdown",
   "metadata": {},
   "source": [
    "Наибольшее значение Accuracy достигается при параметре min_samples_leaf= 1\n",
    "#### В алгоритме DecisionTreeClassifier найдем параметр min_samples_split, при котором будет достигнуто максимальное значение Accuracy"
   ]
  },
  {
   "cell_type": "code",
   "execution_count": 6,
   "metadata": {
    "scrolled": false
   },
   "outputs": [
    {
     "name": "stdout",
     "output_type": "stream",
     "text": [
      "min_samples_split= 2 :  0.8040435458786936\n",
      "min_samples_split= 3 :  0.8040435458786936\n",
      "min_samples_split= 4 :  0.8040435458786936\n",
      "min_samples_split= 5 :  0.8040435458786936\n",
      "Accuracy наилучшей модели на валидационной выборке: 0.8040435458786936\n"
     ]
    }
   ],
   "source": [
    "best_model = None\n",
    "best_result = 0\n",
    "for j in range(2,6):\n",
    "    model = DecisionTreeClassifier(random_state=42, max_depth=5, min_samples_leaf=1, min_samples_split=j)\n",
    "    model.fit(features_train,target_train)\n",
    "    predictions_valid = model.predict(features_valid)\n",
    "    result = accuracy_score(target_valid,predictions_valid)\n",
    "    print(\"min_samples_split=\",j,\": \",result)\n",
    "    if result > best_result:\n",
    "        best_model = model# сохраните наилучшую модель\n",
    "        best_result = result#  сохраните наилучшее значение метрики accuracy на валидационных данных\n",
    "print(\"Accuracy наилучшей модели на валидационной выборке:\", best_result)"
   ]
  },
  {
   "cell_type": "markdown",
   "metadata": {},
   "source": [
    "При изменении параметра min_samples_split значение Accuracy постоянно.\n",
    "\n",
    "### Применим алгоритм классификации \"Случайный лес\" и определим гиперпараметр n_estimators, при котором значение Accuracy будет максимальным"
   ]
  },
  {
   "cell_type": "code",
   "execution_count": 7,
   "metadata": {
    "scrolled": true
   },
   "outputs": [
    {
     "name": "stdout",
     "output_type": "stream",
     "text": [
      "n_estimators= 10 :  0.8087091757387247\n",
      "n_estimators= 11 :  0.7962674961119751\n",
      "n_estimators= 12 :  0.807153965785381\n",
      "n_estimators= 13 :  0.7993779160186625\n",
      "Accuracy наилучшей модели на валидационной выборке: 0.8087091757387247\n"
     ]
    }
   ],
   "source": [
    "best_model = None\n",
    "best_result = 0\n",
    "for est in range(10,14,1):\n",
    "    model = RandomForestClassifier(random_state=42, n_estimators=est) # обучаем модель с заданным количеством деревьев\n",
    "    model.fit(features_train,target_train) # обучаем модель на тренировочной выборке\n",
    "    result = model.score(features_valid,target_valid) # посчитайте качество модели на валидационной выборке\n",
    "    print(\"n_estimators=\",est,\": \",result)\n",
    "    if result > best_result:\n",
    "        best_model = model#  наилучшая модель\n",
    "        best_result = result#  наилучшее значение accuracy на валидационных данных\n",
    "\n",
    "print(\"Accuracy наилучшей модели на валидационной выборке:\", best_result)"
   ]
  },
  {
   "cell_type": "markdown",
   "metadata": {},
   "source": [
    "Наибольшее значение Accuracy достигается при параметре min_samples_leaf= 10\n",
    "\n",
    "### Применим алгоритм классификации \"Логистическая регрессия\" и определим гиперпараметр max_iter, при котором значение Accuracy будет максимальным"
   ]
  },
  {
   "cell_type": "code",
   "execution_count": 8,
   "metadata": {
    "scrolled": true
   },
   "outputs": [
    {
     "name": "stdout",
     "output_type": "stream",
     "text": [
      "max_iter= 100 :  0.702954898911353\n",
      "max_iter= 200 :  0.702954898911353\n",
      "max_iter= 300 :  0.702954898911353\n",
      "max_iter= 400 :  0.702954898911353\n",
      "max_iter= 500 :  0.702954898911353\n",
      "max_iter= 600 :  0.702954898911353\n",
      "max_iter= 700 :  0.702954898911353\n",
      "max_iter= 800 :  0.702954898911353\n",
      "max_iter= 900 :  0.702954898911353\n",
      "Accuracy наилучшей модели на валидационной выборке: 0.702954898911353\n"
     ]
    }
   ],
   "source": [
    "best_model = None\n",
    "best_result = 0\n",
    "for iter in range(100, 1000,100):\n",
    "    model = LogisticRegression(random_state=42, solver='lbfgs', max_iter=iter)\n",
    "    model.fit(features_train,target_train) #  модель на тренировочной выборке\n",
    "    result = model.score(features_valid,target_valid)\n",
    "    print(\"max_iter=\",iter,\": \",result)\n",
    "    if result > best_result:\n",
    "        best_model = model# наилучшая модель\n",
    "        best_result = result#  наилучшее значение accuracy на валидационных данных\n",
    "\n",
    "print(\"Accuracy наилучшей модели на валидационной выборке:\", best_result)"
   ]
  },
  {
   "cell_type": "markdown",
   "metadata": {},
   "source": [
    "**Вывод:**\n",
    "\n",
    "Таким образом мы определили, что максимальный Accuracy = 0.8087091757387247 по алгоритму \"Случайный лес\" с гиперпараметрами:\n",
    "random_state=42, n_estimators=10\n",
    "Используем этот алгоритм классификации с указанными гиперпараметрами для проверки модели на тестовой выборке."
   ]
  },
  {
   "cell_type": "markdown",
   "metadata": {},
   "source": [
    "## Проверка модель на тестовой выборке"
   ]
  },
  {
   "cell_type": "code",
   "execution_count": 9,
   "metadata": {},
   "outputs": [
    {
     "data": {
      "text/plain": [
       "0.7667185069984448"
      ]
     },
     "execution_count": 9,
     "metadata": {},
     "output_type": "execute_result"
    }
   ],
   "source": [
    "model = RandomForestClassifier(random_state=42, n_estimators=10)\n",
    "model.fit(features_train,target_train)\n",
    "predictions_test = model.predict(features_test)\n",
    "result = model.score(features_test,target_test)\n",
    "result "
   ]
  },
  {
   "cell_type": "markdown",
   "metadata": {},
   "source": [
    "Доля правильных ответов более 0,75. Цель достигнута"
   ]
  },
  {
   "cell_type": "markdown",
   "metadata": {},
   "source": [
    "## (бонус) Проверка модели на адекватность\n",
    "\n",
    "Проверку на адекватность модели реализуем с помощью DummyClassifier"
   ]
  },
  {
   "cell_type": "code",
   "execution_count": 10,
   "metadata": {},
   "outputs": [
    {
     "data": {
      "text/plain": [
       "0.7013996889580093"
      ]
     },
     "execution_count": 10,
     "metadata": {},
     "output_type": "execute_result"
    }
   ],
   "source": [
    "model = DummyClassifier(strategy='most_frequent', random_state=42)\n",
    "model.fit(features_train,target_train)\n",
    "result = model.score(features_test,target_test)\n",
    "result"
   ]
  },
  {
   "cell_type": "markdown",
   "metadata": {},
   "source": [
    "Качество полученной модели ниже, значит наша модель адекватна."
   ]
  }
 ],
 "metadata": {
  "ExecuteTimeLog": [
   {
    "duration": 1137,
    "start_time": "2022-03-14T18:44:14.511Z"
   },
   {
    "duration": 29,
    "start_time": "2022-03-14T18:44:28.489Z"
   },
   {
    "duration": 20,
    "start_time": "2022-03-14T18:44:38.915Z"
   },
   {
    "duration": 24,
    "start_time": "2022-03-14T18:45:29.209Z"
   },
   {
    "duration": 15,
    "start_time": "2022-03-14T19:02:42.565Z"
   },
   {
    "duration": 8,
    "start_time": "2022-03-14T19:55:13.308Z"
   },
   {
    "duration": 264,
    "start_time": "2022-03-14T20:10:29.033Z"
   },
   {
    "duration": 4,
    "start_time": "2022-03-14T20:10:39.290Z"
   },
   {
    "duration": 16,
    "start_time": "2022-03-14T20:10:39.296Z"
   },
   {
    "duration": 8,
    "start_time": "2022-03-14T20:10:39.314Z"
   },
   {
    "duration": 201,
    "start_time": "2022-03-14T20:10:43.304Z"
   },
   {
    "duration": 3,
    "start_time": "2022-03-14T20:10:57.304Z"
   },
   {
    "duration": 17,
    "start_time": "2022-03-14T20:10:58.419Z"
   },
   {
    "duration": 9,
    "start_time": "2022-03-14T20:10:59.533Z"
   },
   {
    "duration": 206,
    "start_time": "2022-03-14T20:11:02.414Z"
   },
   {
    "duration": 186,
    "start_time": "2022-03-14T20:11:53.757Z"
   },
   {
    "duration": 3,
    "start_time": "2022-03-14T20:13:13.710Z"
   },
   {
    "duration": 26,
    "start_time": "2022-03-14T20:13:17.372Z"
   },
   {
    "duration": 37,
    "start_time": "2022-03-14T20:15:01.571Z"
   },
   {
    "duration": 58,
    "start_time": "2022-03-14T20:15:07.258Z"
   },
   {
    "duration": 27,
    "start_time": "2022-03-14T20:18:52.108Z"
   },
   {
    "duration": 199,
    "start_time": "2022-03-14T20:20:48.139Z"
   },
   {
    "duration": 5,
    "start_time": "2022-03-14T20:20:52.226Z"
   },
   {
    "duration": 19,
    "start_time": "2022-03-14T20:20:52.233Z"
   },
   {
    "duration": 7,
    "start_time": "2022-03-14T20:20:52.254Z"
   },
   {
    "duration": 27,
    "start_time": "2022-03-14T20:20:52.263Z"
   },
   {
    "duration": 342,
    "start_time": "2022-03-14T20:20:55.698Z"
   },
   {
    "duration": 33,
    "start_time": "2022-03-14T20:21:40.061Z"
   },
   {
    "duration": 38,
    "start_time": "2022-03-14T20:22:19.713Z"
   },
   {
    "duration": 71,
    "start_time": "2022-03-14T20:22:30.874Z"
   },
   {
    "duration": 351,
    "start_time": "2022-03-14T20:22:55.244Z"
   },
   {
    "duration": 195,
    "start_time": "2022-03-14T20:29:37.236Z"
   },
   {
    "duration": 200,
    "start_time": "2022-03-14T20:29:49.070Z"
   },
   {
    "duration": 1191,
    "start_time": "2022-03-14T20:30:09.550Z"
   },
   {
    "duration": 40,
    "start_time": "2022-03-14T20:30:39.643Z"
   },
   {
    "duration": 214,
    "start_time": "2022-03-14T20:30:48.990Z"
   },
   {
    "duration": 221,
    "start_time": "2022-03-14T20:30:59.865Z"
   },
   {
    "duration": 3,
    "start_time": "2022-03-14T20:31:03.646Z"
   },
   {
    "duration": 23,
    "start_time": "2022-03-14T20:31:03.651Z"
   },
   {
    "duration": 7,
    "start_time": "2022-03-14T20:31:03.676Z"
   },
   {
    "duration": 62,
    "start_time": "2022-03-14T20:31:03.685Z"
   },
   {
    "duration": 180,
    "start_time": "2022-03-14T20:31:07.550Z"
   },
   {
    "duration": 39,
    "start_time": "2022-03-14T20:31:28.395Z"
   },
   {
    "duration": 198,
    "start_time": "2022-03-14T20:31:47.758Z"
   },
   {
    "duration": 186,
    "start_time": "2022-03-14T20:32:03.396Z"
   },
   {
    "duration": 38,
    "start_time": "2022-03-14T20:32:11.378Z"
   },
   {
    "duration": 39,
    "start_time": "2022-03-14T20:32:16.181Z"
   },
   {
    "duration": 52,
    "start_time": "2022-03-14T20:32:23.633Z"
   },
   {
    "duration": 193,
    "start_time": "2022-03-14T20:32:32.846Z"
   },
   {
    "duration": 181,
    "start_time": "2022-03-14T20:32:37.327Z"
   },
   {
    "duration": 38,
    "start_time": "2022-03-14T20:32:40.323Z"
   },
   {
    "duration": 188,
    "start_time": "2022-03-14T20:32:59.134Z"
   },
   {
    "duration": 192,
    "start_time": "2022-03-14T20:33:03.311Z"
   },
   {
    "duration": 52,
    "start_time": "2022-03-14T20:33:20.303Z"
   },
   {
    "duration": 27,
    "start_time": "2022-03-14T20:35:18.531Z"
   },
   {
    "duration": 28,
    "start_time": "2022-03-14T20:36:06.259Z"
   },
   {
    "duration": 36,
    "start_time": "2022-03-14T20:37:20.309Z"
   },
   {
    "duration": 182,
    "start_time": "2022-03-14T20:37:36.321Z"
   },
   {
    "duration": 25,
    "start_time": "2022-03-14T20:37:40.418Z"
   },
   {
    "duration": 41,
    "start_time": "2022-03-14T20:37:47.527Z"
   },
   {
    "duration": 185,
    "start_time": "2022-03-14T20:37:50.659Z"
   },
   {
    "duration": 221,
    "start_time": "2022-03-14T20:38:13.772Z"
   },
   {
    "duration": 1138,
    "start_time": "2022-03-14T20:38:17.235Z"
   },
   {
    "duration": 59,
    "start_time": "2022-03-14T20:39:34.966Z"
   },
   {
    "duration": 61,
    "start_time": "2022-03-14T20:40:20.060Z"
   },
   {
    "duration": 3,
    "start_time": "2022-03-14T20:40:40.086Z"
   },
   {
    "duration": 17,
    "start_time": "2022-03-14T20:40:40.092Z"
   },
   {
    "duration": 10,
    "start_time": "2022-03-14T20:40:40.112Z"
   },
   {
    "duration": 65,
    "start_time": "2022-03-14T20:40:40.124Z"
   },
   {
    "duration": 28,
    "start_time": "2022-03-14T20:40:40.191Z"
   },
   {
    "duration": 54,
    "start_time": "2022-03-14T20:40:44.900Z"
   },
   {
    "duration": 76,
    "start_time": "2022-03-14T20:41:49.917Z"
   },
   {
    "duration": 4,
    "start_time": "2022-03-14T20:41:58.590Z"
   },
   {
    "duration": 32,
    "start_time": "2022-03-14T20:41:58.596Z"
   },
   {
    "duration": 24,
    "start_time": "2022-03-14T20:41:58.630Z"
   },
   {
    "duration": 89,
    "start_time": "2022-03-14T20:41:58.656Z"
   },
   {
    "duration": 30,
    "start_time": "2022-03-14T20:41:58.747Z"
   },
   {
    "duration": 30,
    "start_time": "2022-03-14T20:42:02.585Z"
   },
   {
    "duration": 65,
    "start_time": "2022-03-14T20:43:32.408Z"
   },
   {
    "duration": 190,
    "start_time": "2022-03-14T20:45:33.294Z"
   },
   {
    "duration": 82,
    "start_time": "2022-03-14T20:51:56.490Z"
   },
   {
    "duration": 83,
    "start_time": "2022-03-14T20:53:02.604Z"
   },
   {
    "duration": 94,
    "start_time": "2022-03-14T20:53:57.351Z"
   },
   {
    "duration": 92,
    "start_time": "2022-03-14T20:54:04.661Z"
   },
   {
    "duration": 218,
    "start_time": "2022-03-14T20:54:41.582Z"
   },
   {
    "duration": 35,
    "start_time": "2022-03-14T20:54:48.139Z"
   },
   {
    "duration": 187,
    "start_time": "2022-03-14T20:55:53.949Z"
   },
   {
    "duration": 188,
    "start_time": "2022-03-14T20:56:09.186Z"
   },
   {
    "duration": 63,
    "start_time": "2022-03-14T20:56:20.345Z"
   },
   {
    "duration": 98,
    "start_time": "2022-03-14T20:57:19.440Z"
   },
   {
    "duration": 67,
    "start_time": "2022-03-14T20:57:32.825Z"
   },
   {
    "duration": 68,
    "start_time": "2022-03-14T20:57:43.660Z"
   },
   {
    "duration": 45,
    "start_time": "2022-03-14T20:57:50.972Z"
   },
   {
    "duration": 85,
    "start_time": "2022-03-14T20:58:18.451Z"
   },
   {
    "duration": 199,
    "start_time": "2022-03-14T20:58:46.592Z"
   },
   {
    "duration": 73,
    "start_time": "2022-03-14T20:59:00.640Z"
   },
   {
    "duration": 63,
    "start_time": "2022-03-14T20:59:06.934Z"
   },
   {
    "duration": 64,
    "start_time": "2022-03-14T20:59:15.202Z"
   },
   {
    "duration": 180,
    "start_time": "2022-03-14T20:59:20.294Z"
   },
   {
    "duration": 191,
    "start_time": "2022-03-14T21:00:23.613Z"
   },
   {
    "duration": 62,
    "start_time": "2022-03-14T21:00:28.602Z"
   },
   {
    "duration": 69,
    "start_time": "2022-03-14T21:00:54.754Z"
   },
   {
    "duration": 77,
    "start_time": "2022-03-14T21:01:06.193Z"
   },
   {
    "duration": 112,
    "start_time": "2022-03-14T21:01:29.195Z"
   },
   {
    "duration": 299,
    "start_time": "2022-03-14T21:02:53.398Z"
   },
   {
    "duration": 72,
    "start_time": "2022-03-14T21:04:53.084Z"
   },
   {
    "duration": 71,
    "start_time": "2022-03-14T21:05:27.421Z"
   },
   {
    "duration": 61,
    "start_time": "2022-03-14T21:05:53.825Z"
   },
   {
    "duration": 67,
    "start_time": "2022-03-14T21:06:18.545Z"
   },
   {
    "duration": 112,
    "start_time": "2022-03-14T21:06:54.785Z"
   },
   {
    "duration": 61,
    "start_time": "2022-03-14T21:07:13.091Z"
   },
   {
    "duration": 67,
    "start_time": "2022-03-14T21:07:17.125Z"
   },
   {
    "duration": 58,
    "start_time": "2022-03-14T21:07:47.150Z"
   },
   {
    "duration": 65,
    "start_time": "2022-03-14T21:07:56.296Z"
   },
   {
    "duration": 1184,
    "start_time": "2022-03-15T03:36:57.279Z"
   },
   {
    "duration": 24,
    "start_time": "2022-03-15T03:36:58.465Z"
   },
   {
    "duration": 10,
    "start_time": "2022-03-15T03:36:58.491Z"
   },
   {
    "duration": 75,
    "start_time": "2022-03-15T03:36:58.503Z"
   },
   {
    "duration": 95,
    "start_time": "2022-03-15T03:36:58.581Z"
   },
   {
    "duration": 87,
    "start_time": "2022-03-15T03:36:58.679Z"
   },
   {
    "duration": 373,
    "start_time": "2022-03-15T03:36:58.768Z"
   },
   {
    "duration": 82,
    "start_time": "2022-03-15T03:54:49.935Z"
   },
   {
    "duration": 326,
    "start_time": "2022-03-15T03:55:00.226Z"
   },
   {
    "duration": 3,
    "start_time": "2022-03-15T03:55:07.211Z"
   },
   {
    "duration": 20,
    "start_time": "2022-03-15T03:55:07.216Z"
   },
   {
    "duration": 8,
    "start_time": "2022-03-15T03:55:07.238Z"
   },
   {
    "duration": 80,
    "start_time": "2022-03-15T03:55:07.248Z"
   },
   {
    "duration": 93,
    "start_time": "2022-03-15T03:55:07.330Z"
   },
   {
    "duration": 94,
    "start_time": "2022-03-15T03:55:07.425Z"
   },
   {
    "duration": 365,
    "start_time": "2022-03-15T03:55:07.521Z"
   },
   {
    "duration": 74,
    "start_time": "2022-03-15T03:55:11.652Z"
   },
   {
    "duration": 313,
    "start_time": "2022-03-15T03:57:06.475Z"
   },
   {
    "duration": 81,
    "start_time": "2022-03-15T03:58:55.567Z"
   },
   {
    "duration": 355,
    "start_time": "2022-03-15T03:59:09.218Z"
   },
   {
    "duration": 344,
    "start_time": "2022-03-15T03:59:57.074Z"
   },
   {
    "duration": 439,
    "start_time": "2022-03-15T04:00:28.522Z"
   },
   {
    "duration": 1659,
    "start_time": "2022-03-15T04:00:53.312Z"
   },
   {
    "duration": 1816,
    "start_time": "2022-03-15T04:01:11.532Z"
   },
   {
    "duration": 6460,
    "start_time": "2022-03-15T04:01:29.330Z"
   },
   {
    "duration": 3172,
    "start_time": "2022-03-15T04:01:53.429Z"
   },
   {
    "duration": 3754,
    "start_time": "2022-03-15T04:02:04.950Z"
   },
   {
    "duration": 294,
    "start_time": "2022-03-15T04:02:46.239Z"
   },
   {
    "duration": 326,
    "start_time": "2022-03-15T04:03:03.766Z"
   },
   {
    "duration": 261,
    "start_time": "2022-03-15T04:03:17.858Z"
   },
   {
    "duration": 275,
    "start_time": "2022-03-15T04:03:31.056Z"
   },
   {
    "duration": 71,
    "start_time": "2022-03-15T04:03:43.274Z"
   },
   {
    "duration": 270,
    "start_time": "2022-03-15T04:03:50.081Z"
   },
   {
    "duration": 120,
    "start_time": "2022-03-15T04:05:46.430Z"
   },
   {
    "duration": 81,
    "start_time": "2022-03-15T04:05:53.518Z"
   },
   {
    "duration": 12,
    "start_time": "2022-03-15T04:13:07.941Z"
   },
   {
    "duration": 11,
    "start_time": "2022-03-15T04:15:59.823Z"
   },
   {
    "duration": 5328,
    "start_time": "2022-03-15T18:25:45.642Z"
   },
   {
    "duration": 4337,
    "start_time": "2022-03-15T18:26:00.885Z"
   },
   {
    "duration": 17,
    "start_time": "2022-03-15T18:41:26.900Z"
   },
   {
    "duration": 15,
    "start_time": "2022-03-15T18:41:35.093Z"
   },
   {
    "duration": 18,
    "start_time": "2022-03-15T18:41:40.222Z"
   },
   {
    "duration": 13,
    "start_time": "2022-03-15T18:42:02.873Z"
   },
   {
    "duration": 17,
    "start_time": "2022-03-15T18:42:13.629Z"
   },
   {
    "duration": 105,
    "start_time": "2022-03-15T18:45:33.758Z"
   },
   {
    "duration": 9,
    "start_time": "2022-03-15T18:48:45.213Z"
   },
   {
    "duration": 7,
    "start_time": "2022-03-15T18:48:56.387Z"
   },
   {
    "duration": 7,
    "start_time": "2022-03-15T18:49:17.369Z"
   },
   {
    "duration": 8,
    "start_time": "2022-03-15T18:49:56.786Z"
   },
   {
    "duration": 7,
    "start_time": "2022-03-15T18:50:13.039Z"
   },
   {
    "duration": 291,
    "start_time": "2022-03-15T18:50:49.121Z"
   },
   {
    "duration": 7,
    "start_time": "2022-03-15T18:50:54.038Z"
   },
   {
    "duration": 15,
    "start_time": "2022-03-15T18:51:00.629Z"
   },
   {
    "duration": 384,
    "start_time": "2022-03-15T18:52:08.481Z"
   },
   {
    "duration": 137,
    "start_time": "2022-03-15T18:52:38.793Z"
   },
   {
    "duration": 96,
    "start_time": "2022-03-15T18:57:04.914Z"
   },
   {
    "duration": 88,
    "start_time": "2022-03-15T18:57:17.679Z"
   },
   {
    "duration": 171,
    "start_time": "2022-03-15T18:57:39.521Z"
   },
   {
    "duration": 68,
    "start_time": "2022-03-15T18:57:48.980Z"
   },
   {
    "duration": 56,
    "start_time": "2022-03-15T18:58:12.519Z"
   },
   {
    "duration": 41,
    "start_time": "2022-03-15T18:58:28.141Z"
   },
   {
    "duration": 572,
    "start_time": "2022-03-15T18:59:18.635Z"
   },
   {
    "duration": 68,
    "start_time": "2022-03-15T19:00:32.733Z"
   },
   {
    "duration": 12,
    "start_time": "2022-03-15T19:00:46.830Z"
   },
   {
    "duration": 280,
    "start_time": "2022-03-15T19:07:06.755Z"
   },
   {
    "duration": 4,
    "start_time": "2022-03-15T19:07:46.891Z"
   },
   {
    "duration": 356,
    "start_time": "2022-03-15T19:07:55.194Z"
   },
   {
    "duration": 4,
    "start_time": "2022-03-15T19:08:01.743Z"
   },
   {
    "duration": 51,
    "start_time": "2022-03-15T19:08:01.749Z"
   },
   {
    "duration": 13,
    "start_time": "2022-03-15T19:08:01.805Z"
   },
   {
    "duration": 288,
    "start_time": "2022-03-15T19:08:06.368Z"
   },
   {
    "duration": 111,
    "start_time": "2022-03-15T19:08:45.426Z"
   },
   {
    "duration": 45,
    "start_time": "2022-03-15T19:09:22.040Z"
   },
   {
    "duration": 45,
    "start_time": "2022-03-15T19:09:55.047Z"
   },
   {
    "duration": 52,
    "start_time": "2022-03-15T19:10:29.679Z"
   },
   {
    "duration": 51,
    "start_time": "2022-03-15T19:10:38.312Z"
   },
   {
    "duration": 46,
    "start_time": "2022-03-15T19:10:55.101Z"
   },
   {
    "duration": 41,
    "start_time": "2022-03-15T19:13:31.312Z"
   },
   {
    "duration": 58,
    "start_time": "2022-03-15T19:13:35.598Z"
   },
   {
    "duration": 13,
    "start_time": "2022-03-15T19:26:48.314Z"
   },
   {
    "duration": 17,
    "start_time": "2022-03-15T19:27:05.696Z"
   },
   {
    "duration": 4,
    "start_time": "2022-03-15T19:35:44.187Z"
   },
   {
    "duration": 12,
    "start_time": "2022-03-15T19:37:47.514Z"
   },
   {
    "duration": 6,
    "start_time": "2022-03-15T19:38:05.492Z"
   },
   {
    "duration": 7,
    "start_time": "2022-03-15T19:38:16.490Z"
   },
   {
    "duration": 1203,
    "start_time": "2022-03-15T19:47:43.379Z"
   },
   {
    "duration": 28,
    "start_time": "2022-03-15T19:47:44.585Z"
   },
   {
    "duration": 57,
    "start_time": "2022-03-15T19:47:44.616Z"
   },
   {
    "duration": 62,
    "start_time": "2022-03-15T19:47:44.676Z"
   },
   {
    "duration": 54,
    "start_time": "2022-03-15T19:47:44.740Z"
   },
   {
    "duration": 43,
    "start_time": "2022-03-15T19:47:44.815Z"
   },
   {
    "duration": 449,
    "start_time": "2022-03-15T19:47:44.860Z"
   },
   {
    "duration": 339,
    "start_time": "2022-03-15T19:47:45.312Z"
   },
   {
    "duration": 14,
    "start_time": "2022-03-15T19:47:45.653Z"
   },
   {
    "duration": 48,
    "start_time": "2022-03-15T19:47:45.669Z"
   },
   {
    "duration": 22,
    "start_time": "2022-03-15T19:49:51.012Z"
   },
   {
    "duration": 41,
    "start_time": "2022-03-15T19:52:11.102Z"
   },
   {
    "duration": 20,
    "start_time": "2022-03-15T20:00:23.598Z"
   },
   {
    "duration": 1413,
    "start_time": "2022-03-15T20:02:47.974Z"
   },
   {
    "duration": 48,
    "start_time": "2022-03-15T20:02:49.390Z"
   },
   {
    "duration": 10,
    "start_time": "2022-03-15T20:02:49.440Z"
   },
   {
    "duration": 81,
    "start_time": "2022-03-15T20:02:49.453Z"
   },
   {
    "duration": 48,
    "start_time": "2022-03-15T20:02:49.536Z"
   },
   {
    "duration": 57,
    "start_time": "2022-03-15T20:02:49.586Z"
   },
   {
    "duration": 461,
    "start_time": "2022-03-15T20:02:49.646Z"
   },
   {
    "duration": 313,
    "start_time": "2022-03-15T20:02:50.110Z"
   },
   {
    "duration": 14,
    "start_time": "2022-03-15T20:02:50.428Z"
   },
   {
    "duration": 6,
    "start_time": "2022-03-15T20:02:50.444Z"
   },
   {
    "duration": 1085,
    "start_time": "2022-03-16T08:03:45.730Z"
   },
   {
    "duration": 43,
    "start_time": "2022-03-16T08:03:46.817Z"
   },
   {
    "duration": 10,
    "start_time": "2022-03-16T08:03:46.862Z"
   },
   {
    "duration": 4,
    "start_time": "2022-03-16T08:04:00.068Z"
   },
   {
    "duration": 3,
    "start_time": "2022-03-16T08:04:05.547Z"
   },
   {
    "duration": 4,
    "start_time": "2022-03-16T08:04:11.103Z"
   },
   {
    "duration": 1331,
    "start_time": "2022-03-16T19:04:11.188Z"
   },
   {
    "duration": 45,
    "start_time": "2022-03-16T19:04:12.521Z"
   },
   {
    "duration": 19,
    "start_time": "2022-03-16T19:04:12.568Z"
   },
   {
    "duration": 42,
    "start_time": "2022-03-16T19:04:12.589Z"
   },
   {
    "duration": 60,
    "start_time": "2022-03-16T19:04:12.633Z"
   },
   {
    "duration": 37,
    "start_time": "2022-03-16T19:04:12.696Z"
   },
   {
    "duration": 343,
    "start_time": "2022-03-16T19:04:12.736Z"
   },
   {
    "duration": 405,
    "start_time": "2022-03-16T19:04:13.090Z"
   },
   {
    "duration": 18,
    "start_time": "2022-03-16T19:04:13.498Z"
   },
   {
    "duration": 10,
    "start_time": "2022-03-16T19:04:13.518Z"
   },
   {
    "duration": 68,
    "start_time": "2022-04-03T17:53:57.299Z"
   },
   {
    "duration": 1564,
    "start_time": "2022-04-03T17:54:02.449Z"
   },
   {
    "duration": 53,
    "start_time": "2022-04-03T17:54:04.016Z"
   },
   {
    "duration": 9,
    "start_time": "2022-04-03T17:54:04.072Z"
   },
   {
    "duration": 48,
    "start_time": "2022-04-03T17:54:04.084Z"
   },
   {
    "duration": 80,
    "start_time": "2022-04-03T17:54:04.134Z"
   },
   {
    "duration": 62,
    "start_time": "2022-04-03T17:54:04.216Z"
   },
   {
    "duration": 335,
    "start_time": "2022-04-03T17:54:04.280Z"
   },
   {
    "duration": 429,
    "start_time": "2022-04-03T17:54:04.617Z"
   },
   {
    "duration": 32,
    "start_time": "2022-04-03T17:54:05.048Z"
   },
   {
    "duration": 8,
    "start_time": "2022-04-03T17:54:05.084Z"
   },
   {
    "duration": 157,
    "start_time": "2022-04-04T18:09:39.344Z"
   },
   {
    "duration": 2703,
    "start_time": "2022-04-04T18:09:44.071Z"
   },
   {
    "duration": 103,
    "start_time": "2022-04-04T18:09:46.777Z"
   },
   {
    "duration": 10,
    "start_time": "2022-04-04T18:09:46.882Z"
   },
   {
    "duration": 113,
    "start_time": "2022-04-04T18:09:46.895Z"
   },
   {
    "duration": 177,
    "start_time": "2022-04-04T18:09:47.012Z"
   },
   {
    "duration": 114,
    "start_time": "2022-04-04T18:09:47.192Z"
   },
   {
    "duration": 776,
    "start_time": "2022-04-04T18:09:47.308Z"
   },
   {
    "duration": 993,
    "start_time": "2022-04-04T18:09:48.087Z"
   },
   {
    "duration": 19,
    "start_time": "2022-04-04T18:09:49.084Z"
   },
   {
    "duration": 79,
    "start_time": "2022-04-04T18:09:49.105Z"
   },
   {
    "duration": 1171,
    "start_time": "2022-07-19T04:08:36.009Z"
   },
   {
    "duration": 184,
    "start_time": "2022-07-19T04:08:37.183Z"
   },
   {
    "duration": 8,
    "start_time": "2022-07-19T04:08:37.373Z"
   },
   {
    "duration": 32,
    "start_time": "2022-07-19T04:08:37.383Z"
   },
   {
    "duration": 48,
    "start_time": "2022-07-19T04:08:37.417Z"
   },
   {
    "duration": 36,
    "start_time": "2022-07-19T04:08:37.468Z"
   },
   {
    "duration": 4,
    "start_time": "2022-07-19T04:08:38.981Z"
   },
   {
    "duration": 66,
    "start_time": "2022-07-19T04:08:39.019Z"
   },
   {
    "duration": 9,
    "start_time": "2022-07-19T04:08:39.087Z"
   },
   {
    "duration": 41,
    "start_time": "2022-07-19T04:08:39.098Z"
   },
   {
    "duration": 57,
    "start_time": "2022-07-19T04:08:39.151Z"
   },
   {
    "duration": 57,
    "start_time": "2022-07-19T04:08:39.210Z"
   },
   {
    "duration": 541,
    "start_time": "2022-07-19T04:08:39.279Z"
   },
   {
    "duration": 364,
    "start_time": "2022-07-19T04:08:39.821Z"
   },
   {
    "duration": 16,
    "start_time": "2022-07-19T04:08:40.187Z"
   },
   {
    "duration": 7,
    "start_time": "2022-07-19T04:08:40.205Z"
   },
   {
    "duration": 1195,
    "start_time": "2022-07-19T04:08:51.891Z"
   },
   {
    "duration": 53,
    "start_time": "2022-07-19T04:08:53.087Z"
   },
   {
    "duration": 8,
    "start_time": "2022-07-19T04:08:53.142Z"
   },
   {
    "duration": 58,
    "start_time": "2022-07-19T04:08:53.153Z"
   },
   {
    "duration": 35,
    "start_time": "2022-07-19T04:08:53.213Z"
   },
   {
    "duration": 41,
    "start_time": "2022-07-19T04:08:53.251Z"
   },
   {
    "duration": 516,
    "start_time": "2022-07-19T04:08:53.293Z"
   },
   {
    "duration": 379,
    "start_time": "2022-07-19T04:08:53.811Z"
   },
   {
    "duration": 14,
    "start_time": "2022-07-19T04:08:54.191Z"
   },
   {
    "duration": 5,
    "start_time": "2022-07-19T04:08:54.207Z"
   },
   {
    "duration": 1297,
    "start_time": "2022-07-19T04:12:59.874Z"
   },
   {
    "duration": 56,
    "start_time": "2022-07-19T04:13:01.173Z"
   },
   {
    "duration": 9,
    "start_time": "2022-07-19T04:13:01.231Z"
   },
   {
    "duration": 80,
    "start_time": "2022-07-19T04:13:01.241Z"
   },
   {
    "duration": 76,
    "start_time": "2022-07-19T04:13:01.324Z"
   },
   {
    "duration": 34,
    "start_time": "2022-07-19T04:13:01.403Z"
   },
   {
    "duration": 561,
    "start_time": "2022-07-19T04:13:01.446Z"
   },
   {
    "duration": 219,
    "start_time": "2022-07-19T04:13:02.009Z"
   },
   {
    "duration": 12,
    "start_time": "2022-07-19T04:13:02.230Z"
   },
   {
    "duration": 41,
    "start_time": "2022-07-19T04:13:02.243Z"
   },
   {
    "duration": 1152,
    "start_time": "2022-07-19T04:15:19.165Z"
   },
   {
    "duration": 63,
    "start_time": "2022-07-19T04:15:20.319Z"
   },
   {
    "duration": 6,
    "start_time": "2022-07-19T04:15:20.384Z"
   },
   {
    "duration": 32,
    "start_time": "2022-07-19T04:15:20.393Z"
   },
   {
    "duration": 48,
    "start_time": "2022-07-19T04:15:20.447Z"
   },
   {
    "duration": 49,
    "start_time": "2022-07-19T04:15:20.497Z"
   },
   {
    "duration": 242,
    "start_time": "2022-07-19T04:15:20.547Z"
   },
   {
    "duration": 195,
    "start_time": "2022-07-19T04:15:20.790Z"
   },
   {
    "duration": 12,
    "start_time": "2022-07-19T04:15:20.986Z"
   },
   {
    "duration": 5,
    "start_time": "2022-07-19T04:15:21.001Z"
   },
   {
    "duration": 1133,
    "start_time": "2022-07-19T04:24:31.736Z"
   },
   {
    "duration": 52,
    "start_time": "2022-07-19T04:24:32.871Z"
   },
   {
    "duration": 6,
    "start_time": "2022-07-19T04:24:32.924Z"
   },
   {
    "duration": 35,
    "start_time": "2022-07-19T04:24:32.932Z"
   },
   {
    "duration": 36,
    "start_time": "2022-07-19T04:24:32.969Z"
   },
   {
    "duration": 47,
    "start_time": "2022-07-19T04:24:33.007Z"
   },
   {
    "duration": 219,
    "start_time": "2022-07-19T04:24:33.057Z"
   },
   {
    "duration": 174,
    "start_time": "2022-07-19T04:24:33.277Z"
   },
   {
    "duration": 57,
    "start_time": "2022-07-19T04:24:33.458Z"
   },
   {
    "duration": 6,
    "start_time": "2022-07-19T04:24:33.517Z"
   },
   {
    "duration": 1084,
    "start_time": "2022-07-19T04:27:12.521Z"
   },
   {
    "duration": 57,
    "start_time": "2022-07-19T04:27:13.607Z"
   },
   {
    "duration": 7,
    "start_time": "2022-07-19T04:27:13.665Z"
   },
   {
    "duration": 35,
    "start_time": "2022-07-19T04:27:13.674Z"
   },
   {
    "duration": 60,
    "start_time": "2022-07-19T04:27:13.711Z"
   },
   {
    "duration": 30,
    "start_time": "2022-07-19T04:27:13.773Z"
   },
   {
    "duration": 224,
    "start_time": "2022-07-19T04:27:13.805Z"
   },
   {
    "duration": 177,
    "start_time": "2022-07-19T04:27:14.031Z"
   },
   {
    "duration": 63,
    "start_time": "2022-07-19T04:27:14.210Z"
   },
   {
    "duration": 6,
    "start_time": "2022-07-19T04:27:14.276Z"
   }
  ],
  "kernelspec": {
   "display_name": "Python 3 (ipykernel)",
   "language": "python",
   "name": "python3"
  },
  "language_info": {
   "codemirror_mode": {
    "name": "ipython",
    "version": 3
   },
   "file_extension": ".py",
   "mimetype": "text/x-python",
   "name": "python",
   "nbconvert_exporter": "python",
   "pygments_lexer": "ipython3",
   "version": "3.9.5"
  },
  "toc": {
   "base_numbering": 1,
   "nav_menu": {},
   "number_sections": true,
   "sideBar": true,
   "skip_h1_title": true,
   "title_cell": "Table of Contents",
   "title_sidebar": "Contents",
   "toc_cell": false,
   "toc_position": {},
   "toc_section_display": true,
   "toc_window_display": false
  }
 },
 "nbformat": 4,
 "nbformat_minor": 2
}
